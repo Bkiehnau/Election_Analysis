{
 "cells": [
  {
   "cell_type": "code",
   "execution_count": 32,
   "metadata": {},
   "outputs": [],
   "source": [
    "# The data we need to retrieve.\n",
    "# 1. The total number of votes cast.\n",
    "# 2. A complete list of candidates who received votes\n",
    "# 3. The percentage of votes each candidate won\n",
    "# 4. The total number of votes each candidate won\n",
    "# 5. The winner of the election based on popular vote."
   ]
  },
  {
   "cell_type": "code",
   "execution_count": 34,
   "metadata": {},
   "outputs": [
    {
     "name": "stdout",
     "output_type": "stream",
     "text": [
      "\n",
      "Election Results\n",
      "-------------------------\n",
      "Total Votes: 369,711\n",
      "-------------------------\n",
      "Charles Casper Stockham: 23.0% (85,213)\n",
      "\n",
      "Diana DeGette: 73.8% (272,892)\n",
      "\n",
      "Raymon Anthony Doane: 3.1% (11,606)\n",
      "\n",
      "-------------------------\n",
      "Winner: Diana DeGette\n",
      "Winning Vote Count: 272,892\n",
      "Winning Percentage: 73.8%\n",
      "-------------------------\n",
      "\n"
     ]
    }
   ],
   "source": [
    "# Add our dependencies.\n",
    "import csv\n",
    "import os\n",
    "# Assign a variable to load a file from a path.\n",
    "file_to_load = \"/Users/bkieh/Desktop/School/Classwork/Python/Election_Analysis/Resources/election_results.csv\"\n",
    "# Assign a variable to save the file to a path.\n",
    "file_to_save = os.path.join(\"election_analysis.txt\")\n",
    "# Initialize a total vote counter.\n",
    "total_votes = 0\n",
    "# Candidate options and candidate votes.\n",
    "candidate_options = []\n",
    "candidate_votes = {}\n",
    "# Track the winning candidate, vote count, and percentage.\n",
    "winning_candidate = \"\"\n",
    "winning_count = 0\n",
    "winning_percentage = 0\n",
    "# Open the election results and read the file.\n",
    "with open(file_to_load) as election_data:\n",
    "    file_reader = csv.reader(election_data)\n",
    "    # Read the header row.\n",
    "    headers = next(file_reader)\n",
    "    # Print each row in the CSV file.\n",
    "    for row in file_reader:\n",
    "        # Add to the total vote count.\n",
    "        total_votes += 1\n",
    "        # Get the candidate name from each row.\n",
    "        candidate_name = row[2]\n",
    "        # If the candidate does not match any existing candidate, add the\n",
    "        # the candidate list.\n",
    "        if candidate_name not in candidate_options:\n",
    "            # Add the candidate name to the candidate list.\n",
    "            candidate_options.append(candidate_name)\n",
    "            # And begin tracking that candidate's voter count.\n",
    "            candidate_votes[candidate_name] = 0\n",
    "        # Add a vote to that candidate's count.\n",
    "        candidate_votes[candidate_name] += 1\n",
    "\n",
    "# Save the results to our text file.\n",
    "with open(file_to_save, \"w\") as txt_file:\n",
    "    # After opening the file print the final vote count to the terminal.\n",
    "    election_results = (\n",
    "        f\"\\nElection Results\\n\"\n",
    "        f\"-------------------------\\n\"\n",
    "        f\"Total Votes: {total_votes:,}\\n\"\n",
    "        f\"-------------------------\\n\")\n",
    "    print(election_results, end=\"\")\n",
    "    # After printing the final vote count to the terminal save the final vote count to the text file.\n",
    "    txt_file.write(election_results)\n",
    "    for candidate_name in candidate_votes:\n",
    "        # Retrieve vote count and percentage.\n",
    "        votes = candidate_votes[candidate_name]\n",
    "        vote_percentage = float(votes) / float(total_votes) * 100\n",
    "        candidate_results = (\n",
    "            f\"{candidate_name}: {vote_percentage:.1f}% ({votes:,})\\n\")\n",
    "\n",
    "        # Print each candidate's voter count and percentage to the terminal.\n",
    "        print(candidate_results)\n",
    "        #  Save the candidate results to our text file.\n",
    "        txt_file.write(candidate_results)\n",
    "        # Determine winning vote count, winning percentage, and winning candidate.\n",
    "        if (votes > winning_count) and (vote_percentage > winning_percentage):\n",
    "            winning_count = votes\n",
    "            winning_candidate = candidate_name\n",
    "            winning_percentage = vote_percentage\n",
    "    # Print the winning candidate's results to the terminal.\n",
    "    winning_candidate_summary = (\n",
    "        f\"-------------------------\\n\"\n",
    "        f\"Winner: {winning_candidate}\\n\"\n",
    "        f\"Winning Vote Count: {winning_count:,}\\n\"\n",
    "        f\"Winning Percentage: {winning_percentage:.1f}%\\n\"\n",
    "        f\"-------------------------\\n\")\n",
    "    print(winning_candidate_summary)\n",
    "    # Save the winning candidate's results to the text file.\n",
    "    txt_file.write(winning_candidate_summary)"
   ]
  }
 ],
 "metadata": {
  "interpreter": {
   "hash": "aee8b7b246df8f9039afb4144a1f6fd8d2ca17a180786b69acc140d282b71a49"
  },
  "kernelspec": {
   "display_name": "Python 3.7.6 64-bit",
   "language": "python",
   "name": "python3"
  },
  "language_info": {
   "codemirror_mode": {
    "name": "ipython",
    "version": 3
   },
   "file_extension": ".py",
   "mimetype": "text/x-python",
   "name": "python",
   "nbconvert_exporter": "python",
   "pygments_lexer": "ipython3",
   "version": "3.7.6"
  },
  "orig_nbformat": 4
 },
 "nbformat": 4,
 "nbformat_minor": 2
}
